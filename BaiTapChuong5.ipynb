{
  "nbformat": 4,
  "nbformat_minor": 0,
  "metadata": {
    "colab": {
      "name": "BaiTapChuong5.ipynb",
      "provenance": [],
      "authorship_tag": "ABX9TyMuvHNBzKtxR8nJ6+D4ukFo",
      "include_colab_link": true
    },
    "kernelspec": {
      "name": "python3",
      "display_name": "Python 3"
    },
    "language_info": {
      "name": "python"
    }
  },
  "cells": [
    {
      "cell_type": "markdown",
      "metadata": {
        "id": "view-in-github",
        "colab_type": "text"
      },
      "source": [
        "<a href=\"https://colab.research.google.com/github/PhanDangSiNguyen/ThucHanhToanCaoCap/blob/main/BaiTapChuong5.ipynb\" target=\"_parent\"><img src=\"https://colab.research.google.com/assets/colab-badge.svg\" alt=\"Open In Colab\"/></a>"
      ]
    },
    {
      "cell_type": "markdown",
      "source": [
        "Bài 1"
      ],
      "metadata": {
        "id": "5JmwzTNWNMt7"
      }
    },
    {
      "cell_type": "code",
      "execution_count": 1,
      "metadata": {
        "colab": {
          "base_uri": "https://localhost:8080/"
        },
        "id": "18nwW-nONFuI",
        "outputId": "3b3f5aaa-fe7f-4106-b04a-64a673740eb6"
      },
      "outputs": [
        {
          "output_type": "stream",
          "name": "stdout",
          "text": [
            "3\n"
          ]
        }
      ],
      "source": [
        "x = 3 \n",
        "print (x)"
      ]
    },
    {
      "cell_type": "code",
      "source": [
        "import math\n",
        "x = math.sqrt(1+x) \n",
        "print (x) "
      ],
      "metadata": {
        "colab": {
          "base_uri": "https://localhost:8080/"
        },
        "id": "wzd_ANovNYAr",
        "outputId": "14309f08-a8ce-4b3e-ffa8-c01800f2f802"
      },
      "execution_count": 5,
      "outputs": [
        {
          "output_type": "stream",
          "name": "stdout",
          "text": [
            "2.0\n"
          ]
        }
      ]
    },
    {
      "cell_type": "code",
      "source": [
        "x = math.sqrt(1+x)\n",
        "print (x) "
      ],
      "metadata": {
        "colab": {
          "base_uri": "https://localhost:8080/"
        },
        "id": "33rqWrA4NgJs",
        "outputId": "85c1f9da-d626-43e6-cf5e-b277db7dba98"
      },
      "execution_count": 6,
      "outputs": [
        {
          "output_type": "stream",
          "name": "stdout",
          "text": [
            "1.7320508075688772\n"
          ]
        }
      ]
    },
    {
      "cell_type": "code",
      "source": [
        "x = math.sqrt(1+x)\n",
        "print (x) "
      ],
      "metadata": {
        "colab": {
          "base_uri": "https://localhost:8080/"
        },
        "id": "tZx7SbztNwZs",
        "outputId": "b05b1914-db83-4236-e2c4-7d68fecce46d"
      },
      "execution_count": 7,
      "outputs": [
        {
          "output_type": "stream",
          "name": "stdout",
          "text": [
            "1.6528916502810695\n"
          ]
        }
      ]
    },
    {
      "cell_type": "markdown",
      "source": [
        "Bài 2"
      ],
      "metadata": {
        "id": "KB-rMnmoN2da"
      }
    },
    {
      "cell_type": "code",
      "source": [
        "import math \n",
        "x = 3\n",
        "lap = 1\n",
        "while (x != math.sqrt(x+1)): \n",
        "  x = math.sqrt(x+1) \n",
        "  lap = lap  +1   \n",
        "x"
      ],
      "metadata": {
        "colab": {
          "base_uri": "https://localhost:8080/"
        },
        "id": "nOgsVm-CNzw6",
        "outputId": "6ed26bc1-bc5a-4d91-8b56-da8194bb7e2b"
      },
      "execution_count": 11,
      "outputs": [
        {
          "output_type": "execute_result",
          "data": {
            "text/plain": [
              "1.618033988749895"
            ]
          },
          "metadata": {},
          "execution_count": 11
        }
      ]
    },
    {
      "cell_type": "code",
      "source": [
        "lap"
      ],
      "metadata": {
        "colab": {
          "base_uri": "https://localhost:8080/"
        },
        "id": "30ASAnCYOLxR",
        "outputId": "5d517ed0-e445-4f87-9e52-e9e06a62649b"
      },
      "execution_count": 12,
      "outputs": [
        {
          "output_type": "execute_result",
          "data": {
            "text/plain": [
              "32"
            ]
          },
          "metadata": {},
          "execution_count": 12
        }
      ]
    },
    {
      "cell_type": "markdown",
      "source": [
        "Bài 3"
      ],
      "metadata": {
        "id": "Wu-Pmi6cORGS"
      }
    },
    {
      "cell_type": "code",
      "source": [
        "import sympy as sp\n",
        "from sympy import Symbol\n",
        "x = Symbol('x')\n",
        "sp.solve(x-sp.sqrt(1+x),x) "
      ],
      "metadata": {
        "colab": {
          "base_uri": "https://localhost:8080/"
        },
        "id": "AZ56NJfVOR7s",
        "outputId": "84581bb2-4b7b-414c-ea66-6ed7fcaf29ca"
      },
      "execution_count": 13,
      "outputs": [
        {
          "output_type": "execute_result",
          "data": {
            "text/plain": [
              "[1/2 + sqrt(5)/2]"
            ]
          },
          "metadata": {},
          "execution_count": 13
        }
      ]
    },
    {
      "cell_type": "markdown",
      "source": [
        "Bài 4"
      ],
      "metadata": {
        "id": "BJruplLwObto"
      }
    },
    {
      "cell_type": "code",
      "source": [
        "import numpy as np\n",
        "v1 = np.array([1., 2., 3.])\n",
        "v2 = np.array([2., 1., 0.]) \n",
        "v3 = v1 + v2 \n",
        "v3"
      ],
      "metadata": {
        "colab": {
          "base_uri": "https://localhost:8080/"
        },
        "id": "3LWmmrVGOcw9",
        "outputId": "3f3995b6-f061-49e5-9d0e-813437153720"
      },
      "execution_count": 14,
      "outputs": [
        {
          "output_type": "execute_result",
          "data": {
            "text/plain": [
              "array([3., 3., 3.])"
            ]
          },
          "metadata": {},
          "execution_count": 14
        }
      ]
    },
    {
      "cell_type": "code",
      "source": [
        "3*v1  + 2*v2 "
      ],
      "metadata": {
        "colab": {
          "base_uri": "https://localhost:8080/"
        },
        "id": "_aQicmAWOzbB",
        "outputId": "017b4ffc-61ec-48f2-ddb5-94438a3b4fa8"
      },
      "execution_count": 15,
      "outputs": [
        {
          "output_type": "execute_result",
          "data": {
            "text/plain": [
              "array([7., 8., 9.])"
            ]
          },
          "metadata": {},
          "execution_count": 15
        }
      ]
    },
    {
      "cell_type": "code",
      "source": [
        "[1, 2, 3] + [2, 1, 0] "
      ],
      "metadata": {
        "colab": {
          "base_uri": "https://localhost:8080/"
        },
        "id": "Q09c85S0O0cM",
        "outputId": "e115edde-c12f-4c1a-8fcc-9a4ef62763c7"
      },
      "execution_count": 16,
      "outputs": [
        {
          "output_type": "execute_result",
          "data": {
            "text/plain": [
              "[1, 2, 3, 2, 1, 0]"
            ]
          },
          "metadata": {},
          "execution_count": 16
        }
      ]
    },
    {
      "cell_type": "code",
      "source": [
        "3*[1, 2, 3] + 2*[2, 1, 0] "
      ],
      "metadata": {
        "colab": {
          "base_uri": "https://localhost:8080/"
        },
        "id": "KsaXVtxXO4I-",
        "outputId": "eca992cd-abce-4180-9632-b1f7980216d4"
      },
      "execution_count": 17,
      "outputs": [
        {
          "output_type": "execute_result",
          "data": {
            "text/plain": [
              "[1, 2, 3, 1, 2, 3, 1, 2, 3, 2, 1, 0, 2, 1, 0]"
            ]
          },
          "metadata": {},
          "execution_count": 17
        }
      ]
    },
    {
      "cell_type": "markdown",
      "source": [
        "Ghép nối"
      ],
      "metadata": {
        "id": "7wxA3tD8O_op"
      }
    },
    {
      "cell_type": "code",
      "source": [
        "v4 = np.hstack([v1, v2]) \n",
        "v4"
      ],
      "metadata": {
        "colab": {
          "base_uri": "https://localhost:8080/"
        },
        "id": "hXGhdbafPaFL",
        "outputId": "5f07a4a0-c220-4fb6-822b-1d2afea89179"
      },
      "execution_count": 20,
      "outputs": [
        {
          "output_type": "execute_result",
          "data": {
            "text/plain": [
              "array([1., 2., 3., 2., 1., 0.])"
            ]
          },
          "metadata": {},
          "execution_count": 20
        }
      ]
    },
    {
      "cell_type": "markdown",
      "source": [
        "Phép nhân vô hướng"
      ],
      "metadata": {
        "id": "vxoQU8IVP0vf"
      }
    },
    {
      "cell_type": "code",
      "source": [
        "np.dot(v1, v2) "
      ],
      "metadata": {
        "colab": {
          "base_uri": "https://localhost:8080/"
        },
        "id": "WS_pzLXkPd6o",
        "outputId": "93014aa1-5370-4e73-f39e-76d4d7d97366"
      },
      "execution_count": 21,
      "outputs": [
        {
          "output_type": "execute_result",
          "data": {
            "text/plain": [
              "4.0"
            ]
          },
          "metadata": {},
          "execution_count": 21
        }
      ]
    },
    {
      "cell_type": "code",
      "source": [
        "Tính toán giá trị sin của vector"
      ],
      "metadata": {
        "id": "4XjFioAiPyvd"
      },
      "execution_count": null,
      "outputs": []
    },
    {
      "cell_type": "code",
      "source": [
        "angles = np.linspace(0, np.pi/2, 5)\n",
        "angles "
      ],
      "metadata": {
        "colab": {
          "base_uri": "https://localhost:8080/"
        },
        "id": "hW3VPDSCP4w_",
        "outputId": "72ad87ac-4789-4730-d573-dd9fce07a98b"
      },
      "execution_count": 22,
      "outputs": [
        {
          "output_type": "execute_result",
          "data": {
            "text/plain": [
              "array([0.        , 0.39269908, 0.78539816, 1.17809725, 1.57079633])"
            ]
          },
          "metadata": {},
          "execution_count": 22
        }
      ]
    },
    {
      "cell_type": "code",
      "source": [
        "np.sin(angles)"
      ],
      "metadata": {
        "colab": {
          "base_uri": "https://localhost:8080/"
        },
        "id": "ujGOS7hHP7H7",
        "outputId": "022d74db-4381-40fc-d49b-c29af62a10f7"
      },
      "execution_count": 23,
      "outputs": [
        {
          "output_type": "execute_result",
          "data": {
            "text/plain": [
              "array([0.        , 0.38268343, 0.70710678, 0.92387953, 1.        ])"
            ]
          },
          "metadata": {},
          "execution_count": 23
        }
      ]
    },
    {
      "cell_type": "code",
      "source": [
        "import sympy as sy\n",
        "sy.sin(angles"
      ],
      "metadata": {
        "colab": {
          "base_uri": "https://localhost:8080/",
          "height": 130
        },
        "id": "wy5u43lPP9rT",
        "outputId": "3f62e474-bbd1-4b8c-93d1-4dfe4f995d2c"
      },
      "execution_count": 24,
      "outputs": [
        {
          "output_type": "error",
          "ename": "SyntaxError",
          "evalue": "ignored",
          "traceback": [
            "\u001b[0;36m  File \u001b[0;32m\"<ipython-input-24-97cf0c3333ec>\"\u001b[0;36m, line \u001b[0;32m2\u001b[0m\n\u001b[0;31m    sy.sin(angles\u001b[0m\n\u001b[0m                 ^\u001b[0m\n\u001b[0;31mSyntaxError\u001b[0m\u001b[0;31m:\u001b[0m unexpected EOF while parsing\n"
          ]
        }
      ]
    },
    {
      "cell_type": "code",
      "source": [
        "from sympy import sin as sysin\n",
        "angles = np.linspace(0, np.pi/2, 5) \n",
        "sinangle = np.zeros(5)\n",
        "len(angles)\n",
        "for i in range(len(angles)): \n",
        "  sinangle[i] = sysin(angles[i]) \n",
        "sinangle     "
      ],
      "metadata": {
        "colab": {
          "base_uri": "https://localhost:8080/"
        },
        "id": "FMqSybmzQCxL",
        "outputId": "aa3af696-160c-475f-8bf9-4e0a96dc4f56"
      },
      "execution_count": 25,
      "outputs": [
        {
          "output_type": "execute_result",
          "data": {
            "text/plain": [
              "array([0.        , 0.38268343, 0.70710678, 0.92387953, 1.        ])"
            ]
          },
          "metadata": {},
          "execution_count": 25
        }
      ]
    },
    {
      "cell_type": "markdown",
      "source": [
        "Bài 5"
      ],
      "metadata": {
        "id": "UPAxBzOlQjpm"
      }
    },
    {
      "cell_type": "code",
      "source": [
        "import numpy as np\n",
        "goc = np.pi/3\n",
        "A = np.array([ [np.cos(goc), -np.sin(goc)],                      \n",
        "              [np.sin(goc),  np.cos(goc)] ])\n",
        "V = np.array([1. , 0. ])\n",
        "Y = np.dot(A, V)\n",
        "Y "
      ],
      "metadata": {
        "colab": {
          "base_uri": "https://localhost:8080/"
        },
        "id": "bHgqGHO0QlnX",
        "outputId": "223b0478-bbf4-441c-d229-482a177a1ecb"
      },
      "execution_count": 30,
      "outputs": [
        {
          "output_type": "execute_result",
          "data": {
            "text/plain": [
              "array([0.5      , 0.8660254])"
            ]
          },
          "metadata": {},
          "execution_count": 30
        }
      ]
    },
    {
      "cell_type": "markdown",
      "source": [
        "Bài 10"
      ],
      "metadata": {
        "id": "o8wjLU6LRamz"
      }
    },
    {
      "cell_type": "code",
      "source": [
        ""
      ],
      "metadata": {
        "id": "UIyCRArXTQ1B"
      },
      "execution_count": null,
      "outputs": []
    }
  ]
}