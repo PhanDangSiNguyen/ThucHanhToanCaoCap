{
  "nbformat": 4,
  "nbformat_minor": 0,
  "metadata": {
    "colab": {
      "name": "BaiTapChuong3.ipynb",
      "provenance": [],
      "authorship_tag": "ABX9TyOkNTn+BBImu0KNDL4mzwQ8",
      "include_colab_link": true
    },
    "kernelspec": {
      "name": "python3",
      "display_name": "Python 3"
    },
    "language_info": {
      "name": "python"
    }
  },
  "cells": [
    {
      "cell_type": "markdown",
      "metadata": {
        "id": "view-in-github",
        "colab_type": "text"
      },
      "source": [
        "<a href=\"https://colab.research.google.com/github/PhanDangSiNguyen/ThucHanhToanCaoCap/blob/main/BaiTapChuong3.ipynb\" target=\"_parent\"><img src=\"https://colab.research.google.com/assets/colab-badge.svg\" alt=\"Open In Colab\"/></a>"
      ]
    },
    {
      "cell_type": "markdown",
      "source": [
        "Bài 1"
      ],
      "metadata": {
        "id": "bZNZHiZMHto6"
      }
    },
    {
      "cell_type": "code",
      "execution_count": 6,
      "metadata": {
        "colab": {
          "base_uri": "https://localhost:8080/"
        },
        "id": "KQ4j9zNwHqKr",
        "outputId": "0d0b5a84-6496-4b1a-f58d-a2943348057a"
      },
      "outputs": [
        {
          "output_type": "execute_result",
          "data": {
            "text/plain": [
              "243"
            ]
          },
          "metadata": {},
          "execution_count": 6
        }
      ],
      "source": [
        "def luythua(x,n):\n",
        "  ketqua=1\n",
        "  for i in range (n):\n",
        "    ketqua=ketqua*x\n",
        "  return ketqua\n",
        "luythua (3,5) "
      ]
    },
    {
      "cell_type": "markdown",
      "source": [
        "Bài 3"
      ],
      "metadata": {
        "id": "1eQ8anfBIaux"
      }
    },
    {
      "cell_type": "code",
      "source": [
        "try:\n",
        "  x=int(input('x='))\n",
        "  n=10/x\n",
        "except ZeroDivisionError:\n",
        "  print('sai') "
      ],
      "metadata": {
        "colab": {
          "base_uri": "https://localhost:8080/"
        },
        "id": "XU3eG7q4IkKo",
        "outputId": "af19651a-beb3-4168-d7db-42c1ccc3303c"
      },
      "execution_count": 12,
      "outputs": [
        {
          "output_type": "stream",
          "name": "stdout",
          "text": [
            "x=0\n",
            "sai\n"
          ]
        }
      ]
    },
    {
      "cell_type": "markdown",
      "source": [
        "Bài 4\n"
      ],
      "metadata": {
        "id": "YgPmFANiJiJ5"
      }
    },
    {
      "cell_type": "code",
      "source": [
        "while True:\n",
        "  try:\n",
        "    x=int(input('x='))\n",
        "  except ValueError:\n",
        "     print('sai')\n",
        "  else:\n",
        "      print('so vua nhap la'+str(x)) \n",
        "      break\n",
        "  finally:\n",
        "       print('ket thuc') "
      ],
      "metadata": {
        "colab": {
          "base_uri": "https://localhost:8080/"
        },
        "id": "gBuGrsYuJjU-",
        "outputId": "31e3f259-aa6e-43c3-ddfa-7b8769bafd82"
      },
      "execution_count": 20,
      "outputs": [
        {
          "output_type": "stream",
          "name": "stdout",
          "text": [
            "x=hello\n",
            "sai\n",
            "ket thuc\n",
            "x=1\n",
            "so vua nhap la1\n",
            "ket thuc\n"
          ]
        }
      ]
    },
    {
      "cell_type": "markdown",
      "source": [
        "Bài 5"
      ],
      "metadata": {
        "id": "wBXQ9MEiKmeP"
      }
    },
    {
      "cell_type": "code",
      "source": [
        "def frange (batdau, ketthuc, buocnhay):\n",
        "  dayketqua=[]\n",
        "  while batdau<ketthuc:\n",
        "    dayketqua.append(batdau)\n",
        "    batdau=batdau+buocnhay\n",
        "  return dayketqua"
      ],
      "metadata": {
        "id": "SStSOig7KmHJ"
      },
      "execution_count": 31,
      "outputs": []
    },
    {
      "cell_type": "markdown",
      "source": [
        "Bài 6\n"
      ],
      "metadata": {
        "id": "UCRf0ScNONPp"
      }
    },
    {
      "cell_type": "code",
      "source": [
        "from matpilotlib import  pylot as plt\n",
        "import math\n",
        "def drawgraph(x,y):\n",
        "  plt.plot(x,y)\n",
        "  plt.xlabel('Truc X')\n",
        "  plt.ylabel('Truc Y')\n",
        "  plt.title('Do thi bai toan nem bong')\n",
        "def frange (start, final, interval):\n",
        "   so=[]\n",
        "   while start < final:\n",
        "     so.append(start)\n",
        "     start=start+interval\n",
        "   return so\n",
        "def drawtrajectory(u,theta):\n",
        "  #Gia toc trong truong\n",
        "  g=9.8\n",
        "  #Goc bay\n",
        "  theta=math.radiant(theta)\n",
        "  #Thoi gian bay\n",
        "  tflight=2*u*math.sin(theta)/g\n",
        "  #Khoang cach thoi gian\n",
        "  intervals=frange(0,tfilght,0.001)\n",
        "  #Danh sach toa do\n",
        "  x=[]\n",
        "  y=[]\n",
        "  for t in intervals:\n",
        "    x.append(u*math.cos(theta)*t)\n",
        "    y.append(u*math.sin(theta)*t-0.5*g*t*t)\n",
        "  drawgraph(x,y) \n",
        "  "
      ],
      "metadata": {
        "colab": {
          "base_uri": "https://localhost:8080/",
          "height": 373
        },
        "id": "T8NsD1wPOOes",
        "outputId": "ef56e841-4ab7-47e5-d081-5ead950545dd"
      },
      "execution_count": 35,
      "outputs": [
        {
          "output_type": "error",
          "ename": "ModuleNotFoundError",
          "evalue": "ignored",
          "traceback": [
            "\u001b[0;31m---------------------------------------------------------------------------\u001b[0m",
            "\u001b[0;31mModuleNotFoundError\u001b[0m                       Traceback (most recent call last)",
            "\u001b[0;32m<ipython-input-35-2f5bb1c2e982>\u001b[0m in \u001b[0;36m<module>\u001b[0;34m()\u001b[0m\n\u001b[0;32m----> 1\u001b[0;31m \u001b[0;32mfrom\u001b[0m \u001b[0mmatpilotlib\u001b[0m \u001b[0;32mimport\u001b[0m  \u001b[0mpylot\u001b[0m \u001b[0;32mas\u001b[0m \u001b[0mplt\u001b[0m\u001b[0;34m\u001b[0m\u001b[0;34m\u001b[0m\u001b[0m\n\u001b[0m\u001b[1;32m      2\u001b[0m \u001b[0;32mimport\u001b[0m \u001b[0mmath\u001b[0m\u001b[0;34m\u001b[0m\u001b[0;34m\u001b[0m\u001b[0m\n\u001b[1;32m      3\u001b[0m \u001b[0;32mdef\u001b[0m \u001b[0mdrawgraph\u001b[0m\u001b[0;34m(\u001b[0m\u001b[0mx\u001b[0m\u001b[0;34m,\u001b[0m\u001b[0my\u001b[0m\u001b[0;34m)\u001b[0m\u001b[0;34m:\u001b[0m\u001b[0;34m\u001b[0m\u001b[0;34m\u001b[0m\u001b[0m\n\u001b[1;32m      4\u001b[0m   \u001b[0mplt\u001b[0m\u001b[0;34m.\u001b[0m\u001b[0mplot\u001b[0m\u001b[0;34m(\u001b[0m\u001b[0mx\u001b[0m\u001b[0;34m,\u001b[0m\u001b[0my\u001b[0m\u001b[0;34m)\u001b[0m\u001b[0;34m\u001b[0m\u001b[0;34m\u001b[0m\u001b[0m\n\u001b[1;32m      5\u001b[0m   \u001b[0mplt\u001b[0m\u001b[0;34m.\u001b[0m\u001b[0mxlabel\u001b[0m\u001b[0;34m(\u001b[0m\u001b[0;34m'Truc X'\u001b[0m\u001b[0;34m)\u001b[0m\u001b[0;34m\u001b[0m\u001b[0;34m\u001b[0m\u001b[0m\n",
            "\u001b[0;31mModuleNotFoundError\u001b[0m: No module named 'matpilotlib'",
            "",
            "\u001b[0;31m---------------------------------------------------------------------------\u001b[0;32m\nNOTE: If your import is failing due to a missing package, you can\nmanually install dependencies using either !pip or !apt.\n\nTo view examples of installing some common dependencies, click the\n\"Open Examples\" button below.\n\u001b[0;31m---------------------------------------------------------------------------\u001b[0m\n"
          ],
          "errorDetails": {
            "actions": [
              {
                "action": "open_url",
                "actionText": "Open Examples",
                "url": "/notebooks/snippets/importing_libraries.ipynb"
              }
            ]
          }
        }
      ]
    }
  ]
}